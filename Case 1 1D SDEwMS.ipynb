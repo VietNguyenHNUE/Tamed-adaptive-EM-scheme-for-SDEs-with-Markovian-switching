{
  "nbformat": 4,
  "nbformat_minor": 0,
  "metadata": {
    "colab": {
      "provenance": []
    },
    "kernelspec": {
      "name": "python3",
      "display_name": "Python 3"
    },
    "language_info": {
      "name": "python"
    }
  },
  "cells": [
    {
      "cell_type": "code",
      "execution_count": null,
      "metadata": {
        "id": "9NBTE_WJWNPJ"
      },
      "outputs": [],
      "source": [
        "#Import modules\n",
        "import math\n",
        "import numpy as np\n",
        "from sklearn import linear_model\n",
        "import matplotlib.pyplot as plt\n",
        "import scipy.stats"
      ]
    },
    {
      "cell_type": "code",
      "source": [
        "#Define the function b\n",
        "def b(theta,x):\n",
        "  y = 0\n",
        "  if theta == 1:\n",
        "    y = -1 + x - x**3\n",
        "  if theta == 2:\n",
        "    y = -1 + x - x**3\n",
        "  return y"
      ],
      "metadata": {
        "id": "2QqW_mZfY0fv"
      },
      "execution_count": null,
      "outputs": []
    },
    {
      "cell_type": "code",
      "source": [
        "#Define the function sigma\n",
        "def sigma(theta,x):\n",
        "  if theta == 1:\n",
        "    y = 1 + (1+x)*(x**2)**(1/3)\n",
        "  if theta == 2:\n",
        "    y = x**4 + (x**4)**(1/3)\n",
        "    y = 1 + math.sqrt(y/14)\n",
        "  return y"
      ],
      "metadata": {
        "id": "o8H160DZY3B3"
      },
      "execution_count": null,
      "outputs": []
    },
    {
      "cell_type": "code",
      "source": [
        "#Define the tamed function sigma\n",
        "def smdelta(theta,x,delta):\n",
        "  y = 1 + sigma(theta,x)/(1+delta**(1/2)*abs(sigma(theta,x)))\n",
        "  return y"
      ],
      "metadata": {
        "id": "5Kf8f8-oY4iQ"
      },
      "execution_count": null,
      "outputs": []
    },
    {
      "cell_type": "code",
      "source": [
        "#Define the step function h\n",
        "def hdelta(x,delta):\n",
        "  y = 10*delta/((1+abs(b(1,x))+abs(b(2,x))+abs(sigma(1,x))+abs(sigma(2,x))+(abs(x))**(2))**2)\n",
        "  return y"
      ],
      "metadata": {
        "id": "E3meKj3XY8t2"
      },
      "execution_count": null,
      "outputs": []
    },
    {
      "cell_type": "code",
      "source": [
        "x0 = 0 #Initial value\n",
        "T = 1 #Time length"
      ],
      "metadata": {
        "id": "_-hZjjC1Y-i9"
      },
      "execution_count": null,
      "outputs": []
    },
    {
      "cell_type": "code",
      "source": [
        "def kq(L, nMC):\n",
        "    for l in range(2,L+1):\n",
        "        saiso=0\n",
        "        for iMC in range(1, nMC+1):\n",
        "            #Define starting point the fine and coarse paths (Follow the idea in Fang & Giles 2020)\n",
        "            t=0\n",
        "            t_c=0\n",
        "            t_f=0\n",
        "            theta_old_c = 1\n",
        "            theta_c = 1\n",
        "            theta_old_f = 1\n",
        "            theta_f = 1\n",
        "            theta = 1\n",
        "            h_c=0\n",
        "            h_f=0\n",
        "            dW_c=0\n",
        "            dW_f=0\n",
        "            X_c = x0\n",
        "            X_f = x0\n",
        "            n_c=2**l #Number of timestep in coarse path\n",
        "            n_f=2**(l+1) #Number of timestep in fine path\n",
        "            delta_c=1/n_c #Length of timestep in coarse path\n",
        "            delta_f=1/n_f #Length of timestep in fine path\n",
        "            while t<T:\n",
        "                t_old = t\n",
        "                theta_old_c = theta_c\n",
        "                theta_old_f = theta_f\n",
        "                t = min(t_c,t_f)\n",
        "                dW = math.sqrt(t-t_old)*np.random.normal(0, 1)\n",
        "                dW_c = dW_c+dW\n",
        "                dW_f=dW_f+dW\n",
        "                V = np.random.uniform(0,1)\n",
        "                #Simulate the Markovian switching\n",
        "                if theta == 1:\n",
        "                  if V < 0.1*(t-t_old):\n",
        "                    theta = 2\n",
        "                else:\n",
        "                  if V < 0.2*(t-t_old):\n",
        "                    theta = 1\n",
        "                if t==t_c:\n",
        "                  X_c=X_c+b(theta_old_c,X_c)*h_c+smdelta(theta_old_c,X_c,delta_c)*dW_c   #update coarse path using h_c and W_c;\n",
        "                  h_c=hdelta(X_c,delta_c)   #Compute new adapted coarse path timestep\n",
        "                  h_c=min(h_c,T-t_c)   #Check the time point that is nearest to T\n",
        "                  t_c=t_c+h_c        #update t_c\n",
        "                  dW_c=0\n",
        "                  theta_old_c = theta\n",
        "                if t==t_f:\n",
        "                  X_f=X_f+b(theta_old_f,X_f)*h_f+smdelta(theta_old_f,X_f,delta_f)*dW_f #update fine path using h_f and W_f;\n",
        "                  h_f=hdelta(X_f,delta_f)   #Compute new adapted fine path timestep\n",
        "                  h_f=min(h_f,T-t_f)    #Check the time point that is nearest to T\n",
        "                  t_f=t_f+h_f     #update t_f\n",
        "                  dW_f=0\n",
        "                  theta_old_f = theta\n",
        "            saiso=saiso+abs(X_c-X_f)\n",
        "        Esaiso= math.log(saiso/nMC)/math.log(2)\n",
        "        print(l, Esaiso)\n",
        "    return None"
      ],
      "metadata": {
        "id": "ExqC-sAoZA_-"
      },
      "execution_count": null,
      "outputs": []
    },
    {
      "cell_type": "code",
      "source": [
        "kq(6, 1000) #Show the value with l = 6 and the number of sample to compute the expectation of MSE is 1000"
      ],
      "metadata": {
        "id": "djX1g1boZoEn"
      },
      "execution_count": null,
      "outputs": []
    }
  ]
}